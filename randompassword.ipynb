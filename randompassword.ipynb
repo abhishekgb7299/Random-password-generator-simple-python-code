{
  "nbformat": 4,
  "nbformat_minor": 0,
  "metadata": {
    "colab": {
      "name": "randompassword.ipynb",
      "provenance": [],
      "collapsed_sections": []
    },
    "kernelspec": {
      "name": "python3",
      "display_name": "Python 3"
    }
  },
  "cells": [
    {
      "cell_type": "markdown",
      "metadata": {
        "id": "aJUYzLf5SrtR",
        "colab_type": "text"
      },
      "source": [
        "#Password Generator.\n",
        "\n",
        "You can use Pythons string and random modules to generate passwords.\n",
        "\n",
        "The string module contains a number of useful constants and classes.\n"
      ]
    },
    {
      "cell_type": "markdown",
      "metadata": {
        "id": "9JEU73TNTLjo",
        "colab_type": "text"
      },
      "source": [
        "string.ascii_letters\n",
        "\n",
        "Concatenation of the ascii (upper and lowercase) letters\n",
        "\n",
        "\n",
        "\n",
        "string.digits\n",
        "\n",
        "The string ‘0123456789’.\n",
        "\n",
        "\n",
        "\n",
        "\n",
        "string.punctuation\n",
        "String of ASCII characters which are considered punctuation characters in the C\n",
        "locale.\n",
        "\n",
        "Output\n",
        "abcdefghijklmnopqrstuvwxyzABCDEFGHIJKLMNOPQRSTUVWXYZ\n",
        "0123456789\n",
        "!”#$%&'()*+,-./:;<=>?@[]^_`{|}~"
      ]
    },
    {
      "cell_type": "code",
      "metadata": {
        "id": "IhMju79GRb_5",
        "colab_type": "code",
        "colab": {
          "base_uri": "https://localhost:8080/",
          "height": 52
        },
        "outputId": "3cce20a2-3c67-4ea5-aad0-f1347e112ede"
      },
      "source": [
        "import string\n",
        "from random import *\n",
        "characters = string.ascii_letters + string.punctuation  + string.digits \n",
        "password =  (\"\".join(choice(characters) for x in range(randint(8, 16))))\n",
        "print ('Password generated is:')\n",
        "password"
      ],
      "execution_count": 34,
      "outputs": [
        {
          "output_type": "stream",
          "text": [
            "Password generated is:\n"
          ],
          "name": "stdout"
        },
        {
          "output_type": "execute_result",
          "data": {
            "application/vnd.google.colaboratory.intrinsic+json": {
              "type": "string"
            },
            "text/plain": [
              "\"tfamS0b0R%4EkM'\""
            ]
          },
          "metadata": {
            "tags": []
          },
          "execution_count": 34
        }
      ]
    }
  ]
}